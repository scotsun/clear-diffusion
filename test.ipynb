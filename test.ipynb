{
 "cells": [
  {
   "cell_type": "code",
   "execution_count": 1,
   "id": "27dce3e2",
   "metadata": {},
   "outputs": [],
   "source": [
    "import torch\n",
    "from sd_vae.ae import VAE\n",
    "# from sd_vae.vae import Encoder\n",
    "%load_ext autoreload\n",
    "%autoreload 2"
   ]
  },
  {
   "cell_type": "code",
   "execution_count": 6,
   "id": "363f5111",
   "metadata": {},
   "outputs": [],
   "source": [
    "vae = VAE(\n",
    "    channels=32,\n",
    "    channel_multipliers=[1, 2, 4],\n",
    "    n_resnet_blocks=1,\n",
    "    x_channels=1,\n",
    "    z_channels=4,\n",
    "    norm_channels=32,\n",
    "    n_heads=4,\n",
    ").cuda()"
   ]
  },
  {
   "cell_type": "code",
   "execution_count": 8,
   "id": "b8c0a84d",
   "metadata": {},
   "outputs": [],
   "source": [
    "x = torch.rand(2, 1, 32, 32).cuda()\n"
   ]
  },
  {
   "cell_type": "code",
   "execution_count": 10,
   "id": "6e5e59e2",
   "metadata": {},
   "outputs": [],
   "source": [
    "xhat, posterior = vae(x)"
   ]
  },
  {
   "cell_type": "code",
   "execution_count": 12,
   "id": "b4f07ca6",
   "metadata": {},
   "outputs": [
    {
     "data": {
      "text/plain": [
       "torch.Size([2, 4, 8, 8])"
      ]
     },
     "execution_count": 12,
     "metadata": {},
     "output_type": "execute_result"
    }
   ],
   "source": [
    "posterior.sample().shape"
   ]
  },
  {
   "cell_type": "code",
   "execution_count": null,
   "id": "31b869c0",
   "metadata": {},
   "outputs": [],
   "source": []
  }
 ],
 "metadata": {
  "kernelspec": {
   "display_name": "research-new",
   "language": "python",
   "name": "python3"
  },
  "language_info": {
   "codemirror_mode": {
    "name": "ipython",
    "version": 3
   },
   "file_extension": ".py",
   "mimetype": "text/x-python",
   "name": "python",
   "nbconvert_exporter": "python",
   "pygments_lexer": "ipython3",
   "version": "3.12.11"
  }
 },
 "nbformat": 4,
 "nbformat_minor": 5
}
