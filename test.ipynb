{
 "cells": [
  {
   "cell_type": "code",
   "execution_count": 5,
   "id": "27dce3e2",
   "metadata": {},
   "outputs": [
    {
     "name": "stdout",
     "output_type": "stream",
     "text": [
      "The autoreload extension is already loaded. To reload it, use:\n",
      "  %reload_ext autoreload\n"
     ]
    }
   ],
   "source": [
    "import torch\n",
    "from sd_vae.ae import Encoder\n",
    "# from sd_vae.vae import Encoder\n",
    "%load_ext autoreload\n",
    "%autoreload 2"
   ]
  },
  {
   "cell_type": "code",
   "execution_count": 6,
   "id": "a8339df5",
   "metadata": {},
   "outputs": [
    {
     "data": {
      "text/plain": [
       "4328360"
      ]
     },
     "execution_count": 6,
     "metadata": {},
     "output_type": "execute_result"
    }
   ],
   "source": [
    "enc = Encoder(\n",
    "    channels=32,\n",
    "    channel_multipliers=[1, 2, 4, 8],\n",
    "    n_resnet_blocks=1,\n",
    "    in_channels=3,\n",
    "    z_channels=4,\n",
    "    norm_channels=32,\n",
    "    n_heads=4,\n",
    ").cuda()\n",
    "num_p = 0\n",
    "for p in enc.parameters():\n",
    "    num_p += p.numel()\n",
    "num_p"
   ]
  },
  {
   "cell_type": "code",
   "execution_count": 7,
   "id": "a58d7577",
   "metadata": {},
   "outputs": [
    {
     "data": {
      "text/plain": [
       "99.06829833984375"
      ]
     },
     "execution_count": 7,
     "metadata": {},
     "output_type": "execute_result"
    }
   ],
   "source": [
    "num_p * 24 / 1048576"
   ]
  },
  {
   "cell_type": "code",
   "execution_count": 8,
   "id": "06d74a04",
   "metadata": {},
   "outputs": [
    {
     "name": "stdout",
     "output_type": "stream",
     "text": [
      "torch.Size([2, 32, 128, 128])\n",
      "torch.Size([2, 64, 64, 64])\n",
      "torch.Size([2, 128, 32, 32])\n",
      "torch.Size([2, 256, 32, 32])\n"
     ]
    },
    {
     "data": {
      "text/plain": [
       "torch.Size([2, 8, 32, 32])"
      ]
     },
     "execution_count": 8,
     "metadata": {},
     "output_type": "execute_result"
    }
   ],
   "source": [
    "enc(torch.randn(2, 3, 256, 256).cuda()).shape"
   ]
  }
 ],
 "metadata": {
  "kernelspec": {
   "display_name": "research-new",
   "language": "python",
   "name": "python3"
  },
  "language_info": {
   "codemirror_mode": {
    "name": "ipython",
    "version": 3
   },
   "file_extension": ".py",
   "mimetype": "text/x-python",
   "name": "python",
   "nbconvert_exporter": "python",
   "pygments_lexer": "ipython3",
   "version": "3.12.11"
  }
 },
 "nbformat": 4,
 "nbformat_minor": 5
}
